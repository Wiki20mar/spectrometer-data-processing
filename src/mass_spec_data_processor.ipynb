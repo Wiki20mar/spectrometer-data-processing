{
 "cells": [
  {
   "cell_type": "code",
   "execution_count": 52,
   "metadata": {},
   "outputs": [],
   "source": [
    "import pandas as pd\n",
    "import numpy as np\n",
    "import os\n",
    "from datetime import datetime\n",
    "import arrow\n",
    "import re\n",
    "from matplotlib import pyplot as plt\n",
    "import plotly.express as px\n",
    "import plotly\n",
    "import plotly.graph_objects as go\n",
    "import kaleido"
   ]
  },
  {
   "cell_type": "code",
   "execution_count": 53,
   "metadata": {},
   "outputs": [],
   "source": [
    "def preprocessing(path):\n",
    "    \n",
    "    frmt = 'MM_DD_YYYY__HH-mm-ss_A'\n",
    "    arr = []\n",
    "    qwe = {'Jan': '01', 'Feb': '02', 'Mar': '03', 'Apr': '04',\n",
    "           'May': '05', 'Jun': '06', 'Jul': '07', 'Aug': '08', \n",
    "           'Sep': '09', 'Oct': '10', 'Nov': '11', 'Dec': '12'}\n",
    "    \n",
    "    files = [f for f in os.listdir(path) if os.path.isfile(path + '//' + f)]\n",
    "    \n",
    "    for file in files:\n",
    "\n",
    "        to_append = arrow.get(file.replace(file[:3], qwe[file[:3]]).split('.')[0], [frmt, 'MM/DD/YYYY HH:mm:ss']).isoformat()\n",
    "        arr.append(to_append.split('T')[1].split('+')[0])\n",
    "\n",
    "    arr_sorted = sorted(arr, key=lambda x: datetime.strptime(x, '%H:%M:%S'), reverse=False)\n",
    "    \n",
    "    arr_dir_sorted = [x for _,x in sorted(zip(arr,files), key=lambda x: datetime.strptime(x[0], '%H:%M:%S'), reverse=False)]\n",
    "    \n",
    "    return arr_dir_sorted\n",
    "\n",
    "\n",
    "def process_file(path):\n",
    "    \n",
    "    file = open(path, 'r')\n",
    "    string_arr = file.readlines()[22:]\n",
    "    nums = list(map(lambda x: re.split(',', re.sub('[ \\n]', '', x))[1], string_arr))\n",
    "    \n",
    "    return list(map(float, nums))\n",
    "\n",
    "\n",
    "def make_df(filename_array, path):\n",
    "    \n",
    "    to_df = []\n",
    "    k = 0\n",
    "    for file in filename_array:\n",
    "        to_df.append(process_file(path + '/' + file))\n",
    "        k+=1\n",
    "    \n",
    "    df = pd.DataFrame(to_df)\n",
    "    df.columns = df.columns + 1\n",
    "    return df\n",
    "\n",
    "def plot_graphs(df, path):\n",
    "    \n",
    "    os.makedirs('{}/Processed'.format(path, exist_ok = True))\n",
    "    for i in range(65):\n",
    "\n",
    "        fig, ax=plt.subplots(figsize = (6,6))\n",
    "        plt.plot(df.columns, df.iloc[i])\n",
    "        plt.title('M/Z = {}'.format(i+1))\n",
    "        plt.xlabel('Measurement number')\n",
    "        plt.ylabel('Response')\n",
    "        plt.savefig('{}//Processed//{}.png'.format(path,i+1), dpi = 600)\n",
    "        plt.close(fig)\n",
    "        \n",
    "def plot_interactive_graph(df, mz):\n",
    "    nd = 4\n",
    "    fig = px.line(x = np.arange(df.shape[0]-nd)+1, y = df.loc[nd:, mz], \n",
    "              labels = {'x': 'Номер измерения', 'y': 'Сигнал'}, title = 'M/Z = {}'.format(mz))\n",
    "    fig.update_layout(yaxis = dict(showexponent = 'all',exponentformat = 'e'))\n",
    "    return fig"
   ]
  },
  {
   "cell_type": "code",
   "execution_count": 54,
   "metadata": {},
   "outputs": [],
   "source": [
    "root_path = os.path.join(os.getcwd(), os.pardir)\n",
    "path = os.path.join(root_path, 'data\\\\28_06_2024\\\\base\\\\')\n",
    "output_path = os.path.join(root_path, 'output\\\\')\n",
    "\n",
    "dirs_sorted_list = preprocessing(path)\n",
    "processed = make_df(dirs_sorted_list, path)"
   ]
  },
  {
   "cell_type": "code",
   "execution_count": 55,
   "metadata": {},
   "outputs": [
    {
     "data": {
      "text/html": [
       "<div>\n",
       "<style scoped>\n",
       "    .dataframe tbody tr th:only-of-type {\n",
       "        vertical-align: middle;\n",
       "    }\n",
       "\n",
       "    .dataframe tbody tr th {\n",
       "        vertical-align: top;\n",
       "    }\n",
       "\n",
       "    .dataframe thead th {\n",
       "        text-align: right;\n",
       "    }\n",
       "</style>\n",
       "<table border=\"1\" class=\"dataframe\">\n",
       "  <thead>\n",
       "    <tr style=\"text-align: right;\">\n",
       "      <th></th>\n",
       "      <th>1</th>\n",
       "      <th>2</th>\n",
       "      <th>3</th>\n",
       "      <th>4</th>\n",
       "      <th>5</th>\n",
       "      <th>6</th>\n",
       "      <th>7</th>\n",
       "      <th>8</th>\n",
       "      <th>9</th>\n",
       "      <th>10</th>\n",
       "      <th>...</th>\n",
       "      <th>56</th>\n",
       "      <th>57</th>\n",
       "      <th>58</th>\n",
       "      <th>59</th>\n",
       "      <th>60</th>\n",
       "      <th>61</th>\n",
       "      <th>62</th>\n",
       "      <th>63</th>\n",
       "      <th>64</th>\n",
       "      <th>65</th>\n",
       "    </tr>\n",
       "  </thead>\n",
       "  <tbody>\n",
       "    <tr>\n",
       "      <th>0</th>\n",
       "      <td>2.320000e-08</td>\n",
       "      <td>8.690000e-08</td>\n",
       "      <td>3.830000e-09</td>\n",
       "      <td>5.040000e-10</td>\n",
       "      <td>2.310000e-10</td>\n",
       "      <td>2.440000e-10</td>\n",
       "      <td>2.310000e-10</td>\n",
       "      <td>2.450000e-10</td>\n",
       "      <td>1.390000e-10</td>\n",
       "      <td>1.410000e-10</td>\n",
       "      <td>...</td>\n",
       "      <td>1.760000e-10</td>\n",
       "      <td>4.110000e-10</td>\n",
       "      <td>7.970000e-10</td>\n",
       "      <td>8.480000e-12</td>\n",
       "      <td>2.180000e-10</td>\n",
       "      <td>-4.670000e-11</td>\n",
       "      <td>7.740000e-11</td>\n",
       "      <td>0.000000e+00</td>\n",
       "      <td>3.200000e-10</td>\n",
       "      <td>2.040000e-10</td>\n",
       "    </tr>\n",
       "    <tr>\n",
       "      <th>1</th>\n",
       "      <td>1.490000e-08</td>\n",
       "      <td>6.960000e-08</td>\n",
       "      <td>3.350000e-09</td>\n",
       "      <td>4.010000e-10</td>\n",
       "      <td>2.060000e-10</td>\n",
       "      <td>2.780000e-10</td>\n",
       "      <td>2.050000e-10</td>\n",
       "      <td>-5.300000e-11</td>\n",
       "      <td>1.110000e-10</td>\n",
       "      <td>1.910000e-11</td>\n",
       "      <td>...</td>\n",
       "      <td>2.510000e-10</td>\n",
       "      <td>5.470000e-10</td>\n",
       "      <td>4.060000e-10</td>\n",
       "      <td>2.410000e-10</td>\n",
       "      <td>2.550000e-11</td>\n",
       "      <td>-3.820000e-11</td>\n",
       "      <td>2.270000e-10</td>\n",
       "      <td>1.940000e-10</td>\n",
       "      <td>2.880000e-10</td>\n",
       "      <td>3.030000e-10</td>\n",
       "    </tr>\n",
       "    <tr>\n",
       "      <th>2</th>\n",
       "      <td>1.590000e-08</td>\n",
       "      <td>6.210000e-08</td>\n",
       "      <td>3.380000e-09</td>\n",
       "      <td>3.700000e-10</td>\n",
       "      <td>1.590000e-10</td>\n",
       "      <td>1.050000e-10</td>\n",
       "      <td>1.540000e-10</td>\n",
       "      <td>1.990000e-10</td>\n",
       "      <td>1.560000e-10</td>\n",
       "      <td>1.590000e-10</td>\n",
       "      <td>...</td>\n",
       "      <td>1.910000e-10</td>\n",
       "      <td>3.120000e-10</td>\n",
       "      <td>4.190000e-10</td>\n",
       "      <td>-2.760000e-11</td>\n",
       "      <td>9.540000e-11</td>\n",
       "      <td>1.610000e-10</td>\n",
       "      <td>1.260000e-10</td>\n",
       "      <td>2.140000e-10</td>\n",
       "      <td>3.550000e-10</td>\n",
       "      <td>3.540000e-10</td>\n",
       "    </tr>\n",
       "    <tr>\n",
       "      <th>3</th>\n",
       "      <td>1.450000e-08</td>\n",
       "      <td>5.660000e-08</td>\n",
       "      <td>3.020000e-09</td>\n",
       "      <td>1.950000e-10</td>\n",
       "      <td>2.440000e-11</td>\n",
       "      <td>-5.510000e-11</td>\n",
       "      <td>-5.940000e-11</td>\n",
       "      <td>9.440000e-11</td>\n",
       "      <td>-1.030000e-10</td>\n",
       "      <td>-1.060000e-11</td>\n",
       "      <td>...</td>\n",
       "      <td>1.660000e-10</td>\n",
       "      <td>1.610000e-10</td>\n",
       "      <td>2.320000e-10</td>\n",
       "      <td>1.560000e-10</td>\n",
       "      <td>5.510000e-11</td>\n",
       "      <td>-9.330000e-11</td>\n",
       "      <td>-2.760000e-11</td>\n",
       "      <td>9.010000e-11</td>\n",
       "      <td>3.820000e-11</td>\n",
       "      <td>1.590000e-11</td>\n",
       "    </tr>\n",
       "    <tr>\n",
       "      <th>4</th>\n",
       "      <td>1.150000e-08</td>\n",
       "      <td>5.350000e-08</td>\n",
       "      <td>3.150000e-09</td>\n",
       "      <td>2.400000e-10</td>\n",
       "      <td>1.160000e-10</td>\n",
       "      <td>1.360000e-10</td>\n",
       "      <td>-5.730000e-11</td>\n",
       "      <td>1.050000e-10</td>\n",
       "      <td>-2.650000e-11</td>\n",
       "      <td>-1.030000e-10</td>\n",
       "      <td>...</td>\n",
       "      <td>8.170000e-11</td>\n",
       "      <td>2.440000e-10</td>\n",
       "      <td>1.120000e-10</td>\n",
       "      <td>1.560000e-10</td>\n",
       "      <td>-9.540000e-12</td>\n",
       "      <td>-3.080000e-11</td>\n",
       "      <td>6.150000e-11</td>\n",
       "      <td>-7.100000e-11</td>\n",
       "      <td>1.270000e-10</td>\n",
       "      <td>1.800000e-10</td>\n",
       "    </tr>\n",
       "    <tr>\n",
       "      <th>...</th>\n",
       "      <td>...</td>\n",
       "      <td>...</td>\n",
       "      <td>...</td>\n",
       "      <td>...</td>\n",
       "      <td>...</td>\n",
       "      <td>...</td>\n",
       "      <td>...</td>\n",
       "      <td>...</td>\n",
       "      <td>...</td>\n",
       "      <td>...</td>\n",
       "      <td>...</td>\n",
       "      <td>...</td>\n",
       "      <td>...</td>\n",
       "      <td>...</td>\n",
       "      <td>...</td>\n",
       "      <td>...</td>\n",
       "      <td>...</td>\n",
       "      <td>...</td>\n",
       "      <td>...</td>\n",
       "      <td>...</td>\n",
       "      <td>...</td>\n",
       "    </tr>\n",
       "    <tr>\n",
       "      <th>115</th>\n",
       "      <td>2.740000e-09</td>\n",
       "      <td>1.750000e-08</td>\n",
       "      <td>1.730000e-09</td>\n",
       "      <td>3.180000e-10</td>\n",
       "      <td>2.550000e-11</td>\n",
       "      <td>1.510000e-10</td>\n",
       "      <td>-3.080000e-11</td>\n",
       "      <td>1.220000e-10</td>\n",
       "      <td>-4.980000e-11</td>\n",
       "      <td>8.170000e-11</td>\n",
       "      <td>...</td>\n",
       "      <td>1.860000e-10</td>\n",
       "      <td>-9.540000e-12</td>\n",
       "      <td>3.920000e-11</td>\n",
       "      <td>1.510000e-10</td>\n",
       "      <td>2.550000e-10</td>\n",
       "      <td>-1.170000e-11</td>\n",
       "      <td>2.740000e-10</td>\n",
       "      <td>3.180000e-12</td>\n",
       "      <td>9.970000e-11</td>\n",
       "      <td>-1.380000e-11</td>\n",
       "    </tr>\n",
       "    <tr>\n",
       "      <th>116</th>\n",
       "      <td>2.540000e-09</td>\n",
       "      <td>1.740000e-08</td>\n",
       "      <td>1.970000e-09</td>\n",
       "      <td>2.250000e-10</td>\n",
       "      <td>1.130000e-10</td>\n",
       "      <td>1.020000e-10</td>\n",
       "      <td>2.320000e-10</td>\n",
       "      <td>3.090000e-10</td>\n",
       "      <td>2.640000e-10</td>\n",
       "      <td>2.050000e-10</td>\n",
       "      <td>...</td>\n",
       "      <td>2.520000e-10</td>\n",
       "      <td>9.650000e-11</td>\n",
       "      <td>1.090000e-10</td>\n",
       "      <td>1.980000e-10</td>\n",
       "      <td>-4.140000e-11</td>\n",
       "      <td>4.240000e-11</td>\n",
       "      <td>1.040000e-10</td>\n",
       "      <td>1.660000e-10</td>\n",
       "      <td>1.340000e-10</td>\n",
       "      <td>3.400000e-10</td>\n",
       "    </tr>\n",
       "    <tr>\n",
       "      <th>117</th>\n",
       "      <td>2.690000e-09</td>\n",
       "      <td>1.760000e-08</td>\n",
       "      <td>1.620000e-09</td>\n",
       "      <td>-6.360000e-12</td>\n",
       "      <td>9.230000e-11</td>\n",
       "      <td>1.620000e-10</td>\n",
       "      <td>1.630000e-10</td>\n",
       "      <td>1.530000e-10</td>\n",
       "      <td>9.120000e-11</td>\n",
       "      <td>2.120000e-12</td>\n",
       "      <td>...</td>\n",
       "      <td>-5.200000e-11</td>\n",
       "      <td>8.800000e-11</td>\n",
       "      <td>-5.940000e-11</td>\n",
       "      <td>6.890000e-11</td>\n",
       "      <td>1.860000e-10</td>\n",
       "      <td>1.400000e-10</td>\n",
       "      <td>9.010000e-11</td>\n",
       "      <td>3.500000e-11</td>\n",
       "      <td>1.270000e-10</td>\n",
       "      <td>-4.880000e-11</td>\n",
       "    </tr>\n",
       "    <tr>\n",
       "      <th>118</th>\n",
       "      <td>2.690000e-09</td>\n",
       "      <td>1.760000e-08</td>\n",
       "      <td>1.760000e-09</td>\n",
       "      <td>2.840000e-10</td>\n",
       "      <td>2.180000e-10</td>\n",
       "      <td>2.970000e-11</td>\n",
       "      <td>4.980000e-11</td>\n",
       "      <td>5.940000e-11</td>\n",
       "      <td>5.620000e-11</td>\n",
       "      <td>7.210000e-11</td>\n",
       "      <td>...</td>\n",
       "      <td>-3.710000e-11</td>\n",
       "      <td>2.170000e-10</td>\n",
       "      <td>2.230000e-11</td>\n",
       "      <td>9.010000e-11</td>\n",
       "      <td>1.110000e-10</td>\n",
       "      <td>0.000000e+00</td>\n",
       "      <td>5.300000e-11</td>\n",
       "      <td>1.080000e-10</td>\n",
       "      <td>9.440000e-11</td>\n",
       "      <td>7.420000e-12</td>\n",
       "    </tr>\n",
       "    <tr>\n",
       "      <th>119</th>\n",
       "      <td>2.560000e-09</td>\n",
       "      <td>1.740000e-08</td>\n",
       "      <td>1.810000e-09</td>\n",
       "      <td>2.610000e-10</td>\n",
       "      <td>8.910000e-11</td>\n",
       "      <td>9.860000e-11</td>\n",
       "      <td>9.760000e-11</td>\n",
       "      <td>1.650000e-10</td>\n",
       "      <td>1.750000e-10</td>\n",
       "      <td>2.440000e-11</td>\n",
       "      <td>...</td>\n",
       "      <td>8.380000e-11</td>\n",
       "      <td>1.180000e-10</td>\n",
       "      <td>1.360000e-10</td>\n",
       "      <td>1.560000e-10</td>\n",
       "      <td>1.780000e-10</td>\n",
       "      <td>5.830000e-11</td>\n",
       "      <td>3.610000e-11</td>\n",
       "      <td>7.850000e-11</td>\n",
       "      <td>9.650000e-11</td>\n",
       "      <td>0.000000e+00</td>\n",
       "    </tr>\n",
       "  </tbody>\n",
       "</table>\n",
       "<p>120 rows × 65 columns</p>\n",
       "</div>"
      ],
      "text/plain": [
       "               1             2             3             4             5   \\\n",
       "0    2.320000e-08  8.690000e-08  3.830000e-09  5.040000e-10  2.310000e-10   \n",
       "1    1.490000e-08  6.960000e-08  3.350000e-09  4.010000e-10  2.060000e-10   \n",
       "2    1.590000e-08  6.210000e-08  3.380000e-09  3.700000e-10  1.590000e-10   \n",
       "3    1.450000e-08  5.660000e-08  3.020000e-09  1.950000e-10  2.440000e-11   \n",
       "4    1.150000e-08  5.350000e-08  3.150000e-09  2.400000e-10  1.160000e-10   \n",
       "..            ...           ...           ...           ...           ...   \n",
       "115  2.740000e-09  1.750000e-08  1.730000e-09  3.180000e-10  2.550000e-11   \n",
       "116  2.540000e-09  1.740000e-08  1.970000e-09  2.250000e-10  1.130000e-10   \n",
       "117  2.690000e-09  1.760000e-08  1.620000e-09 -6.360000e-12  9.230000e-11   \n",
       "118  2.690000e-09  1.760000e-08  1.760000e-09  2.840000e-10  2.180000e-10   \n",
       "119  2.560000e-09  1.740000e-08  1.810000e-09  2.610000e-10  8.910000e-11   \n",
       "\n",
       "               6             7             8             9             10  \\\n",
       "0    2.440000e-10  2.310000e-10  2.450000e-10  1.390000e-10  1.410000e-10   \n",
       "1    2.780000e-10  2.050000e-10 -5.300000e-11  1.110000e-10  1.910000e-11   \n",
       "2    1.050000e-10  1.540000e-10  1.990000e-10  1.560000e-10  1.590000e-10   \n",
       "3   -5.510000e-11 -5.940000e-11  9.440000e-11 -1.030000e-10 -1.060000e-11   \n",
       "4    1.360000e-10 -5.730000e-11  1.050000e-10 -2.650000e-11 -1.030000e-10   \n",
       "..            ...           ...           ...           ...           ...   \n",
       "115  1.510000e-10 -3.080000e-11  1.220000e-10 -4.980000e-11  8.170000e-11   \n",
       "116  1.020000e-10  2.320000e-10  3.090000e-10  2.640000e-10  2.050000e-10   \n",
       "117  1.620000e-10  1.630000e-10  1.530000e-10  9.120000e-11  2.120000e-12   \n",
       "118  2.970000e-11  4.980000e-11  5.940000e-11  5.620000e-11  7.210000e-11   \n",
       "119  9.860000e-11  9.760000e-11  1.650000e-10  1.750000e-10  2.440000e-11   \n",
       "\n",
       "     ...            56            57            58            59  \\\n",
       "0    ...  1.760000e-10  4.110000e-10  7.970000e-10  8.480000e-12   \n",
       "1    ...  2.510000e-10  5.470000e-10  4.060000e-10  2.410000e-10   \n",
       "2    ...  1.910000e-10  3.120000e-10  4.190000e-10 -2.760000e-11   \n",
       "3    ...  1.660000e-10  1.610000e-10  2.320000e-10  1.560000e-10   \n",
       "4    ...  8.170000e-11  2.440000e-10  1.120000e-10  1.560000e-10   \n",
       "..   ...           ...           ...           ...           ...   \n",
       "115  ...  1.860000e-10 -9.540000e-12  3.920000e-11  1.510000e-10   \n",
       "116  ...  2.520000e-10  9.650000e-11  1.090000e-10  1.980000e-10   \n",
       "117  ... -5.200000e-11  8.800000e-11 -5.940000e-11  6.890000e-11   \n",
       "118  ... -3.710000e-11  2.170000e-10  2.230000e-11  9.010000e-11   \n",
       "119  ...  8.380000e-11  1.180000e-10  1.360000e-10  1.560000e-10   \n",
       "\n",
       "               60            61            62            63            64  \\\n",
       "0    2.180000e-10 -4.670000e-11  7.740000e-11  0.000000e+00  3.200000e-10   \n",
       "1    2.550000e-11 -3.820000e-11  2.270000e-10  1.940000e-10  2.880000e-10   \n",
       "2    9.540000e-11  1.610000e-10  1.260000e-10  2.140000e-10  3.550000e-10   \n",
       "3    5.510000e-11 -9.330000e-11 -2.760000e-11  9.010000e-11  3.820000e-11   \n",
       "4   -9.540000e-12 -3.080000e-11  6.150000e-11 -7.100000e-11  1.270000e-10   \n",
       "..            ...           ...           ...           ...           ...   \n",
       "115  2.550000e-10 -1.170000e-11  2.740000e-10  3.180000e-12  9.970000e-11   \n",
       "116 -4.140000e-11  4.240000e-11  1.040000e-10  1.660000e-10  1.340000e-10   \n",
       "117  1.860000e-10  1.400000e-10  9.010000e-11  3.500000e-11  1.270000e-10   \n",
       "118  1.110000e-10  0.000000e+00  5.300000e-11  1.080000e-10  9.440000e-11   \n",
       "119  1.780000e-10  5.830000e-11  3.610000e-11  7.850000e-11  9.650000e-11   \n",
       "\n",
       "               65  \n",
       "0    2.040000e-10  \n",
       "1    3.030000e-10  \n",
       "2    3.540000e-10  \n",
       "3    1.590000e-11  \n",
       "4    1.800000e-10  \n",
       "..            ...  \n",
       "115 -1.380000e-11  \n",
       "116  3.400000e-10  \n",
       "117 -4.880000e-11  \n",
       "118  7.420000e-12  \n",
       "119  0.000000e+00  \n",
       "\n",
       "[120 rows x 65 columns]"
      ]
     },
     "execution_count": 55,
     "metadata": {},
     "output_type": "execute_result"
    }
   ],
   "source": [
    "processed"
   ]
  },
  {
   "cell_type": "code",
   "execution_count": 56,
   "metadata": {},
   "outputs": [],
   "source": [
    "output_filename_no_extension = os.path.join(output_path, os.path.basename(os.path.dirname(path)))\n",
    "processed.to_csv(output_filename_no_extension + \".csv\", sep = \";\", decimal = \",\")"
   ]
  },
  {
   "cell_type": "code",
   "execution_count": 57,
   "metadata": {},
   "outputs": [
    {
     "data": {
      "application/vnd.plotly.v1+json": {
       "config": {
        "plotlyServerURL": "https://plot.ly"
       },
       "data": [
        {
         "hovertemplate": "Номер измерения=%{x}<br>Сигнал=%{y}<extra></extra>",
         "legendgroup": "",
         "line": {
          "color": "#636efa",
          "dash": "solid"
         },
         "marker": {
          "symbol": "circle"
         },
         "mode": "lines",
         "name": "",
         "orientation": "v",
         "showlegend": false,
         "type": "scatter",
         "x": [
          1,
          2,
          3,
          4,
          5,
          6,
          7,
          8,
          9,
          10,
          11,
          12,
          13,
          14,
          15,
          16,
          17,
          18,
          19,
          20,
          21,
          22,
          23,
          24,
          25,
          26,
          27,
          28,
          29,
          30,
          31,
          32,
          33,
          34,
          35,
          36,
          37,
          38,
          39,
          40,
          41,
          42,
          43,
          44,
          45,
          46,
          47,
          48,
          49,
          50,
          51,
          52,
          53,
          54,
          55,
          56,
          57,
          58,
          59,
          60,
          61,
          62,
          63,
          64,
          65,
          66,
          67,
          68,
          69,
          70,
          71,
          72,
          73,
          74,
          75,
          76,
          77,
          78,
          79,
          80,
          81,
          82,
          83,
          84,
          85,
          86,
          87,
          88,
          89,
          90,
          91,
          92,
          93,
          94,
          95,
          96,
          97,
          98,
          99,
          100,
          101,
          102,
          103,
          104,
          105,
          106,
          107,
          108,
          109,
          110,
          111,
          112,
          113,
          114,
          115,
          116
         ],
         "xaxis": "x",
         "y": [
          2.59e-8,
          2.42e-8,
          2.32e-8,
          2.2e-8,
          2.08e-8,
          1.97e-8,
          1.94e-8,
          1.83e-8,
          1.8e-8,
          1.73e-8,
          1.68e-8,
          1.63e-8,
          1.57e-8,
          1.53e-8,
          1.48e-8,
          1.49e-8,
          1.43e-8,
          1.37e-8,
          1.38e-8,
          1.37e-8,
          1.33e-8,
          1.28e-8,
          1.25e-8,
          1.26e-8,
          1.25e-8,
          1.18e-8,
          1.18e-8,
          1.16e-8,
          1.15e-8,
          1.11e-8,
          1.09e-8,
          1.06e-8,
          1.04e-8,
          1.08e-8,
          1.05e-8,
          1.01e-8,
          1.02e-8,
          9.71e-9,
          1.02e-8,
          9.76e-9,
          9.35e-9,
          9.73e-9,
          9.19e-9,
          9.13e-9,
          8.98e-9,
          9.18e-9,
          9.12e-9,
          8.89e-9,
          8.63e-9,
          8.44e-9,
          8.47e-9,
          8.48e-9,
          8.5e-9,
          8.14e-9,
          8.24e-9,
          8.02e-9,
          7.55e-9,
          8.09e-9,
          7.67e-9,
          7.95e-9,
          7.56e-9,
          7.63e-9,
          7.59e-9,
          7.47e-9,
          7.02e-9,
          7.53e-9,
          7.38e-9,
          6.94e-9,
          7.03e-9,
          7.15e-9,
          6.89e-9,
          6.89e-9,
          6.69e-9,
          7.22e-9,
          6.82e-9,
          6.84e-9,
          6.94e-9,
          6.36e-9,
          6.58e-9,
          6.51e-9,
          6.65e-9,
          6.56e-9,
          6.29e-9,
          6.39e-9,
          6.63e-9,
          6.24e-9,
          6.16e-9,
          5.83e-9,
          6.33e-9,
          5.96e-9,
          5.64e-9,
          6.17e-9,
          5.56e-9,
          5.9e-9,
          5.76e-9,
          5.5e-9,
          5.51e-9,
          5.5e-9,
          5.32e-9,
          5.4e-9,
          5.57e-9,
          5.28e-9,
          5.31e-9,
          5.42e-9,
          5.67e-9,
          5.53e-9,
          4.81e-9,
          5.24e-9,
          5.54e-9,
          5.14e-9,
          4.83e-9,
          5.03e-9,
          4.67e-9,
          5.14e-9,
          4.93e-9,
          4.88e-9
         ],
         "yaxis": "y"
        }
       ],
       "layout": {
        "legend": {
         "tracegroupgap": 0
        },
        "template": {
         "data": {
          "bar": [
           {
            "error_x": {
             "color": "#2a3f5f"
            },
            "error_y": {
             "color": "#2a3f5f"
            },
            "marker": {
             "line": {
              "color": "#E5ECF6",
              "width": 0.5
             },
             "pattern": {
              "fillmode": "overlay",
              "size": 10,
              "solidity": 0.2
             }
            },
            "type": "bar"
           }
          ],
          "barpolar": [
           {
            "marker": {
             "line": {
              "color": "#E5ECF6",
              "width": 0.5
             },
             "pattern": {
              "fillmode": "overlay",
              "size": 10,
              "solidity": 0.2
             }
            },
            "type": "barpolar"
           }
          ],
          "carpet": [
           {
            "aaxis": {
             "endlinecolor": "#2a3f5f",
             "gridcolor": "white",
             "linecolor": "white",
             "minorgridcolor": "white",
             "startlinecolor": "#2a3f5f"
            },
            "baxis": {
             "endlinecolor": "#2a3f5f",
             "gridcolor": "white",
             "linecolor": "white",
             "minorgridcolor": "white",
             "startlinecolor": "#2a3f5f"
            },
            "type": "carpet"
           }
          ],
          "choropleth": [
           {
            "colorbar": {
             "outlinewidth": 0,
             "ticks": ""
            },
            "type": "choropleth"
           }
          ],
          "contour": [
           {
            "colorbar": {
             "outlinewidth": 0,
             "ticks": ""
            },
            "colorscale": [
             [
              0,
              "#0d0887"
             ],
             [
              0.1111111111111111,
              "#46039f"
             ],
             [
              0.2222222222222222,
              "#7201a8"
             ],
             [
              0.3333333333333333,
              "#9c179e"
             ],
             [
              0.4444444444444444,
              "#bd3786"
             ],
             [
              0.5555555555555556,
              "#d8576b"
             ],
             [
              0.6666666666666666,
              "#ed7953"
             ],
             [
              0.7777777777777778,
              "#fb9f3a"
             ],
             [
              0.8888888888888888,
              "#fdca26"
             ],
             [
              1,
              "#f0f921"
             ]
            ],
            "type": "contour"
           }
          ],
          "contourcarpet": [
           {
            "colorbar": {
             "outlinewidth": 0,
             "ticks": ""
            },
            "type": "contourcarpet"
           }
          ],
          "heatmap": [
           {
            "colorbar": {
             "outlinewidth": 0,
             "ticks": ""
            },
            "colorscale": [
             [
              0,
              "#0d0887"
             ],
             [
              0.1111111111111111,
              "#46039f"
             ],
             [
              0.2222222222222222,
              "#7201a8"
             ],
             [
              0.3333333333333333,
              "#9c179e"
             ],
             [
              0.4444444444444444,
              "#bd3786"
             ],
             [
              0.5555555555555556,
              "#d8576b"
             ],
             [
              0.6666666666666666,
              "#ed7953"
             ],
             [
              0.7777777777777778,
              "#fb9f3a"
             ],
             [
              0.8888888888888888,
              "#fdca26"
             ],
             [
              1,
              "#f0f921"
             ]
            ],
            "type": "heatmap"
           }
          ],
          "heatmapgl": [
           {
            "colorbar": {
             "outlinewidth": 0,
             "ticks": ""
            },
            "colorscale": [
             [
              0,
              "#0d0887"
             ],
             [
              0.1111111111111111,
              "#46039f"
             ],
             [
              0.2222222222222222,
              "#7201a8"
             ],
             [
              0.3333333333333333,
              "#9c179e"
             ],
             [
              0.4444444444444444,
              "#bd3786"
             ],
             [
              0.5555555555555556,
              "#d8576b"
             ],
             [
              0.6666666666666666,
              "#ed7953"
             ],
             [
              0.7777777777777778,
              "#fb9f3a"
             ],
             [
              0.8888888888888888,
              "#fdca26"
             ],
             [
              1,
              "#f0f921"
             ]
            ],
            "type": "heatmapgl"
           }
          ],
          "histogram": [
           {
            "marker": {
             "pattern": {
              "fillmode": "overlay",
              "size": 10,
              "solidity": 0.2
             }
            },
            "type": "histogram"
           }
          ],
          "histogram2d": [
           {
            "colorbar": {
             "outlinewidth": 0,
             "ticks": ""
            },
            "colorscale": [
             [
              0,
              "#0d0887"
             ],
             [
              0.1111111111111111,
              "#46039f"
             ],
             [
              0.2222222222222222,
              "#7201a8"
             ],
             [
              0.3333333333333333,
              "#9c179e"
             ],
             [
              0.4444444444444444,
              "#bd3786"
             ],
             [
              0.5555555555555556,
              "#d8576b"
             ],
             [
              0.6666666666666666,
              "#ed7953"
             ],
             [
              0.7777777777777778,
              "#fb9f3a"
             ],
             [
              0.8888888888888888,
              "#fdca26"
             ],
             [
              1,
              "#f0f921"
             ]
            ],
            "type": "histogram2d"
           }
          ],
          "histogram2dcontour": [
           {
            "colorbar": {
             "outlinewidth": 0,
             "ticks": ""
            },
            "colorscale": [
             [
              0,
              "#0d0887"
             ],
             [
              0.1111111111111111,
              "#46039f"
             ],
             [
              0.2222222222222222,
              "#7201a8"
             ],
             [
              0.3333333333333333,
              "#9c179e"
             ],
             [
              0.4444444444444444,
              "#bd3786"
             ],
             [
              0.5555555555555556,
              "#d8576b"
             ],
             [
              0.6666666666666666,
              "#ed7953"
             ],
             [
              0.7777777777777778,
              "#fb9f3a"
             ],
             [
              0.8888888888888888,
              "#fdca26"
             ],
             [
              1,
              "#f0f921"
             ]
            ],
            "type": "histogram2dcontour"
           }
          ],
          "mesh3d": [
           {
            "colorbar": {
             "outlinewidth": 0,
             "ticks": ""
            },
            "type": "mesh3d"
           }
          ],
          "parcoords": [
           {
            "line": {
             "colorbar": {
              "outlinewidth": 0,
              "ticks": ""
             }
            },
            "type": "parcoords"
           }
          ],
          "pie": [
           {
            "automargin": true,
            "type": "pie"
           }
          ],
          "scatter": [
           {
            "fillpattern": {
             "fillmode": "overlay",
             "size": 10,
             "solidity": 0.2
            },
            "type": "scatter"
           }
          ],
          "scatter3d": [
           {
            "line": {
             "colorbar": {
              "outlinewidth": 0,
              "ticks": ""
             }
            },
            "marker": {
             "colorbar": {
              "outlinewidth": 0,
              "ticks": ""
             }
            },
            "type": "scatter3d"
           }
          ],
          "scattercarpet": [
           {
            "marker": {
             "colorbar": {
              "outlinewidth": 0,
              "ticks": ""
             }
            },
            "type": "scattercarpet"
           }
          ],
          "scattergeo": [
           {
            "marker": {
             "colorbar": {
              "outlinewidth": 0,
              "ticks": ""
             }
            },
            "type": "scattergeo"
           }
          ],
          "scattergl": [
           {
            "marker": {
             "colorbar": {
              "outlinewidth": 0,
              "ticks": ""
             }
            },
            "type": "scattergl"
           }
          ],
          "scattermapbox": [
           {
            "marker": {
             "colorbar": {
              "outlinewidth": 0,
              "ticks": ""
             }
            },
            "type": "scattermapbox"
           }
          ],
          "scatterpolar": [
           {
            "marker": {
             "colorbar": {
              "outlinewidth": 0,
              "ticks": ""
             }
            },
            "type": "scatterpolar"
           }
          ],
          "scatterpolargl": [
           {
            "marker": {
             "colorbar": {
              "outlinewidth": 0,
              "ticks": ""
             }
            },
            "type": "scatterpolargl"
           }
          ],
          "scatterternary": [
           {
            "marker": {
             "colorbar": {
              "outlinewidth": 0,
              "ticks": ""
             }
            },
            "type": "scatterternary"
           }
          ],
          "surface": [
           {
            "colorbar": {
             "outlinewidth": 0,
             "ticks": ""
            },
            "colorscale": [
             [
              0,
              "#0d0887"
             ],
             [
              0.1111111111111111,
              "#46039f"
             ],
             [
              0.2222222222222222,
              "#7201a8"
             ],
             [
              0.3333333333333333,
              "#9c179e"
             ],
             [
              0.4444444444444444,
              "#bd3786"
             ],
             [
              0.5555555555555556,
              "#d8576b"
             ],
             [
              0.6666666666666666,
              "#ed7953"
             ],
             [
              0.7777777777777778,
              "#fb9f3a"
             ],
             [
              0.8888888888888888,
              "#fdca26"
             ],
             [
              1,
              "#f0f921"
             ]
            ],
            "type": "surface"
           }
          ],
          "table": [
           {
            "cells": {
             "fill": {
              "color": "#EBF0F8"
             },
             "line": {
              "color": "white"
             }
            },
            "header": {
             "fill": {
              "color": "#C8D4E3"
             },
             "line": {
              "color": "white"
             }
            },
            "type": "table"
           }
          ]
         },
         "layout": {
          "annotationdefaults": {
           "arrowcolor": "#2a3f5f",
           "arrowhead": 0,
           "arrowwidth": 1
          },
          "autotypenumbers": "strict",
          "coloraxis": {
           "colorbar": {
            "outlinewidth": 0,
            "ticks": ""
           }
          },
          "colorscale": {
           "diverging": [
            [
             0,
             "#8e0152"
            ],
            [
             0.1,
             "#c51b7d"
            ],
            [
             0.2,
             "#de77ae"
            ],
            [
             0.3,
             "#f1b6da"
            ],
            [
             0.4,
             "#fde0ef"
            ],
            [
             0.5,
             "#f7f7f7"
            ],
            [
             0.6,
             "#e6f5d0"
            ],
            [
             0.7,
             "#b8e186"
            ],
            [
             0.8,
             "#7fbc41"
            ],
            [
             0.9,
             "#4d9221"
            ],
            [
             1,
             "#276419"
            ]
           ],
           "sequential": [
            [
             0,
             "#0d0887"
            ],
            [
             0.1111111111111111,
             "#46039f"
            ],
            [
             0.2222222222222222,
             "#7201a8"
            ],
            [
             0.3333333333333333,
             "#9c179e"
            ],
            [
             0.4444444444444444,
             "#bd3786"
            ],
            [
             0.5555555555555556,
             "#d8576b"
            ],
            [
             0.6666666666666666,
             "#ed7953"
            ],
            [
             0.7777777777777778,
             "#fb9f3a"
            ],
            [
             0.8888888888888888,
             "#fdca26"
            ],
            [
             1,
             "#f0f921"
            ]
           ],
           "sequentialminus": [
            [
             0,
             "#0d0887"
            ],
            [
             0.1111111111111111,
             "#46039f"
            ],
            [
             0.2222222222222222,
             "#7201a8"
            ],
            [
             0.3333333333333333,
             "#9c179e"
            ],
            [
             0.4444444444444444,
             "#bd3786"
            ],
            [
             0.5555555555555556,
             "#d8576b"
            ],
            [
             0.6666666666666666,
             "#ed7953"
            ],
            [
             0.7777777777777778,
             "#fb9f3a"
            ],
            [
             0.8888888888888888,
             "#fdca26"
            ],
            [
             1,
             "#f0f921"
            ]
           ]
          },
          "colorway": [
           "#636efa",
           "#EF553B",
           "#00cc96",
           "#ab63fa",
           "#FFA15A",
           "#19d3f3",
           "#FF6692",
           "#B6E880",
           "#FF97FF",
           "#FECB52"
          ],
          "font": {
           "color": "#2a3f5f"
          },
          "geo": {
           "bgcolor": "white",
           "lakecolor": "white",
           "landcolor": "#E5ECF6",
           "showlakes": true,
           "showland": true,
           "subunitcolor": "white"
          },
          "hoverlabel": {
           "align": "left"
          },
          "hovermode": "closest",
          "mapbox": {
           "style": "light"
          },
          "paper_bgcolor": "white",
          "plot_bgcolor": "#E5ECF6",
          "polar": {
           "angularaxis": {
            "gridcolor": "white",
            "linecolor": "white",
            "ticks": ""
           },
           "bgcolor": "#E5ECF6",
           "radialaxis": {
            "gridcolor": "white",
            "linecolor": "white",
            "ticks": ""
           }
          },
          "scene": {
           "xaxis": {
            "backgroundcolor": "#E5ECF6",
            "gridcolor": "white",
            "gridwidth": 2,
            "linecolor": "white",
            "showbackground": true,
            "ticks": "",
            "zerolinecolor": "white"
           },
           "yaxis": {
            "backgroundcolor": "#E5ECF6",
            "gridcolor": "white",
            "gridwidth": 2,
            "linecolor": "white",
            "showbackground": true,
            "ticks": "",
            "zerolinecolor": "white"
           },
           "zaxis": {
            "backgroundcolor": "#E5ECF6",
            "gridcolor": "white",
            "gridwidth": 2,
            "linecolor": "white",
            "showbackground": true,
            "ticks": "",
            "zerolinecolor": "white"
           }
          },
          "shapedefaults": {
           "line": {
            "color": "#2a3f5f"
           }
          },
          "ternary": {
           "aaxis": {
            "gridcolor": "white",
            "linecolor": "white",
            "ticks": ""
           },
           "baxis": {
            "gridcolor": "white",
            "linecolor": "white",
            "ticks": ""
           },
           "bgcolor": "#E5ECF6",
           "caxis": {
            "gridcolor": "white",
            "linecolor": "white",
            "ticks": ""
           }
          },
          "title": {
           "x": 0.05
          },
          "xaxis": {
           "automargin": true,
           "gridcolor": "white",
           "linecolor": "white",
           "ticks": "",
           "title": {
            "standoff": 15
           },
           "zerolinecolor": "white",
           "zerolinewidth": 2
          },
          "yaxis": {
           "automargin": true,
           "gridcolor": "white",
           "linecolor": "white",
           "ticks": "",
           "title": {
            "standoff": 15
           },
           "zerolinecolor": "white",
           "zerolinewidth": 2
          }
         }
        },
        "title": {
         "text": "M/Z = 44"
        },
        "xaxis": {
         "anchor": "y",
         "domain": [
          0,
          1
         ],
         "title": {
          "text": "Номер измерения"
         }
        },
        "yaxis": {
         "anchor": "x",
         "domain": [
          0,
          1
         ],
         "exponentformat": "e",
         "showexponent": "all",
         "title": {
          "text": "Сигнал"
         }
        }
       }
      }
     },
     "metadata": {},
     "output_type": "display_data"
    }
   ],
   "source": [
    "mz = 44# b это m/z\n",
    "plot_interactive_graph(processed, mz)"
   ]
  },
  {
   "cell_type": "code",
   "execution_count": 58,
   "metadata": {},
   "outputs": [
    {
     "data": {
      "application/vnd.plotly.v1+json": {
       "config": {
        "plotlyServerURL": "https://plot.ly"
       },
       "data": [
        {
         "mode": "lines",
         "name": "Trace #1",
         "type": "scatter",
         "x": [
          1,
          2,
          3,
          4,
          5,
          6,
          7,
          8,
          9,
          10,
          11,
          12,
          13,
          14,
          15,
          16,
          17,
          18,
          19,
          20,
          21,
          22,
          23,
          24,
          25,
          26,
          27,
          28,
          29,
          30,
          31,
          32,
          33,
          34,
          35,
          36,
          37,
          38,
          39,
          40,
          41,
          42,
          43,
          44,
          45,
          46,
          47,
          48,
          49,
          50,
          51,
          52,
          53,
          54,
          55,
          56,
          57,
          58,
          59,
          60,
          61,
          62,
          63,
          64,
          65,
          66,
          67,
          68,
          69,
          70,
          71,
          72,
          73,
          74,
          75,
          76,
          77,
          78,
          79,
          80,
          81,
          82,
          83,
          84,
          85,
          86,
          87,
          88,
          89,
          90,
          91,
          92,
          93,
          94,
          95,
          96,
          97,
          98,
          99,
          100,
          101,
          102,
          103,
          104,
          105,
          106,
          107,
          108,
          109,
          110,
          111,
          112,
          113,
          114,
          115,
          116
         ],
         "y": [
          2.31e-8,
          2.15e-8,
          2.04e-8,
          1.93e-8,
          1.89e-8,
          1.84e-8,
          1.73e-8,
          1.64e-8,
          1.59e-8,
          1.55e-8,
          1.47e-8,
          1.44e-8,
          1.43e-8,
          1.37e-8,
          1.32e-8,
          1.3e-8,
          1.24e-8,
          1.19e-8,
          1.21e-8,
          1.19e-8,
          1.15e-8,
          1.08e-8,
          1.09e-8,
          1.06e-8,
          1.03e-8,
          9.71e-9,
          9.98e-9,
          9.42e-9,
          9.4e-9,
          9.14e-9,
          9.27e-9,
          8.42e-9,
          8.37e-9,
          8.24e-9,
          8.7e-9,
          7.88e-9,
          7.95e-9,
          8.31e-9,
          7.71e-9,
          7.39e-9,
          7.56e-9,
          7.48e-9,
          6.97e-9,
          7.23e-9,
          7.03e-9,
          7.17e-9,
          6.69e-9,
          7.05e-9,
          6.62e-9,
          6.57e-9,
          6.59e-9,
          6.4e-9,
          6.33e-9,
          6.04e-9,
          6.02e-9,
          5.98e-9,
          5.35e-9,
          6e-9,
          5.68e-9,
          5.94e-9,
          5.45e-9,
          5.25e-9,
          5.32e-9,
          5.47e-9,
          4.99e-9,
          5.25e-9,
          4.97e-9,
          4.85e-9,
          4.73e-9,
          5.14e-9,
          4.86e-9,
          4.91e-9,
          4.39e-9,
          4.76e-9,
          4.61e-9,
          4.76e-9,
          4.29e-9,
          4.52e-9,
          4.68e-9,
          4.43e-9,
          4.49e-9,
          4.34e-9,
          3.98e-9,
          4.4e-9,
          4.28e-9,
          4.1e-9,
          4.28e-9,
          4.23e-9,
          3.99e-9,
          3.9e-9,
          3.91e-9,
          4.14e-9,
          3.57e-9,
          4.03e-9,
          4.03e-9,
          3.7e-9,
          3.8e-9,
          3.79e-9,
          3.63e-9,
          3.65e-9,
          3.67e-9,
          3.72e-9,
          3.6e-9,
          3.42e-9,
          3.79e-9,
          3.71e-9,
          3.4e-9,
          3.57e-9,
          3.48e-9,
          3.32e-9,
          3.25e-9,
          3.41e-9,
          3.5e-9,
          3.3e-9,
          3.15e-9,
          3.14e-9
         ]
        },
        {
         "mode": "lines",
         "name": "Trace #2",
         "type": "scatter",
         "x": [
          1,
          2,
          3,
          4,
          5,
          6,
          7,
          8,
          9,
          10,
          11,
          12,
          13,
          14,
          15,
          16,
          17,
          18,
          19,
          20,
          21,
          22,
          23,
          24,
          25,
          26,
          27,
          28,
          29,
          30,
          31,
          32,
          33,
          34,
          35,
          36,
          37,
          38,
          39,
          40,
          41,
          42,
          43,
          44,
          45,
          46,
          47,
          48,
          49,
          50,
          51,
          52,
          53,
          54,
          55,
          56,
          57,
          58,
          59,
          60,
          61,
          62,
          63,
          64,
          65,
          66,
          67,
          68,
          69,
          70,
          71,
          72,
          73,
          74,
          75,
          76,
          77,
          78,
          79,
          80,
          81,
          82,
          83,
          84,
          85,
          86,
          87,
          88,
          89,
          90,
          91,
          92,
          93,
          94,
          95,
          96,
          97,
          98,
          99,
          100,
          101,
          102,
          103,
          104,
          105,
          106,
          107,
          108,
          109,
          110,
          111,
          112,
          113,
          114,
          115,
          116
         ],
         "y": [
          2.31e-8,
          2.15e-8,
          2.04e-8,
          1.93e-8,
          1.89e-8,
          1.84e-8,
          1.73e-8,
          1.64e-8,
          1.59e-8,
          1.55e-8,
          1.47e-8,
          1.44e-8,
          1.43e-8,
          1.37e-8,
          1.32e-8,
          1.3e-8,
          1.24e-8,
          1.19e-8,
          1.21e-8,
          1.19e-8,
          1.15e-8,
          1.08e-8,
          1.09e-8,
          1.06e-8,
          1.03e-8,
          9.71e-9,
          9.98e-9,
          9.42e-9,
          9.4e-9,
          9.14e-9,
          9.27e-9,
          8.42e-9,
          8.37e-9,
          8.24e-9,
          8.7e-9,
          7.88e-9,
          7.95e-9,
          8.31e-9,
          7.71e-9,
          7.39e-9,
          7.56e-9,
          7.48e-9,
          6.97e-9,
          7.23e-9,
          7.03e-9,
          7.17e-9,
          6.69e-9,
          7.05e-9,
          6.62e-9,
          6.57e-9,
          6.59e-9,
          6.4e-9,
          6.33e-9,
          6.04e-9,
          6.02e-9,
          5.98e-9,
          5.35e-9,
          6e-9,
          5.68e-9,
          5.94e-9,
          5.45e-9,
          5.25e-9,
          5.32e-9,
          5.47e-9,
          4.99e-9,
          5.25e-9,
          4.97e-9,
          4.85e-9,
          4.73e-9,
          5.14e-9,
          4.86e-9,
          4.91e-9,
          4.39e-9,
          4.76e-9,
          4.61e-9,
          4.76e-9,
          4.29e-9,
          4.52e-9,
          4.68e-9,
          4.43e-9,
          4.49e-9,
          4.34e-9,
          3.98e-9,
          4.4e-9,
          4.28e-9,
          4.1e-9,
          4.28e-9,
          4.23e-9,
          3.99e-9,
          3.9e-9,
          3.91e-9,
          4.14e-9,
          3.57e-9,
          4.03e-9,
          4.03e-9,
          3.7e-9,
          3.8e-9,
          3.79e-9,
          3.63e-9,
          3.65e-9,
          3.67e-9,
          3.72e-9,
          3.6e-9,
          3.42e-9,
          3.79e-9,
          3.71e-9,
          3.4e-9,
          3.57e-9,
          3.48e-9,
          3.32e-9,
          3.25e-9,
          3.41e-9,
          3.5e-9,
          3.3e-9,
          3.15e-9,
          3.14e-9
         ]
        }
       ],
       "layout": {
        "template": {
         "data": {
          "bar": [
           {
            "error_x": {
             "color": "#2a3f5f"
            },
            "error_y": {
             "color": "#2a3f5f"
            },
            "marker": {
             "line": {
              "color": "#E5ECF6",
              "width": 0.5
             },
             "pattern": {
              "fillmode": "overlay",
              "size": 10,
              "solidity": 0.2
             }
            },
            "type": "bar"
           }
          ],
          "barpolar": [
           {
            "marker": {
             "line": {
              "color": "#E5ECF6",
              "width": 0.5
             },
             "pattern": {
              "fillmode": "overlay",
              "size": 10,
              "solidity": 0.2
             }
            },
            "type": "barpolar"
           }
          ],
          "carpet": [
           {
            "aaxis": {
             "endlinecolor": "#2a3f5f",
             "gridcolor": "white",
             "linecolor": "white",
             "minorgridcolor": "white",
             "startlinecolor": "#2a3f5f"
            },
            "baxis": {
             "endlinecolor": "#2a3f5f",
             "gridcolor": "white",
             "linecolor": "white",
             "minorgridcolor": "white",
             "startlinecolor": "#2a3f5f"
            },
            "type": "carpet"
           }
          ],
          "choropleth": [
           {
            "colorbar": {
             "outlinewidth": 0,
             "ticks": ""
            },
            "type": "choropleth"
           }
          ],
          "contour": [
           {
            "colorbar": {
             "outlinewidth": 0,
             "ticks": ""
            },
            "colorscale": [
             [
              0,
              "#0d0887"
             ],
             [
              0.1111111111111111,
              "#46039f"
             ],
             [
              0.2222222222222222,
              "#7201a8"
             ],
             [
              0.3333333333333333,
              "#9c179e"
             ],
             [
              0.4444444444444444,
              "#bd3786"
             ],
             [
              0.5555555555555556,
              "#d8576b"
             ],
             [
              0.6666666666666666,
              "#ed7953"
             ],
             [
              0.7777777777777778,
              "#fb9f3a"
             ],
             [
              0.8888888888888888,
              "#fdca26"
             ],
             [
              1,
              "#f0f921"
             ]
            ],
            "type": "contour"
           }
          ],
          "contourcarpet": [
           {
            "colorbar": {
             "outlinewidth": 0,
             "ticks": ""
            },
            "type": "contourcarpet"
           }
          ],
          "heatmap": [
           {
            "colorbar": {
             "outlinewidth": 0,
             "ticks": ""
            },
            "colorscale": [
             [
              0,
              "#0d0887"
             ],
             [
              0.1111111111111111,
              "#46039f"
             ],
             [
              0.2222222222222222,
              "#7201a8"
             ],
             [
              0.3333333333333333,
              "#9c179e"
             ],
             [
              0.4444444444444444,
              "#bd3786"
             ],
             [
              0.5555555555555556,
              "#d8576b"
             ],
             [
              0.6666666666666666,
              "#ed7953"
             ],
             [
              0.7777777777777778,
              "#fb9f3a"
             ],
             [
              0.8888888888888888,
              "#fdca26"
             ],
             [
              1,
              "#f0f921"
             ]
            ],
            "type": "heatmap"
           }
          ],
          "heatmapgl": [
           {
            "colorbar": {
             "outlinewidth": 0,
             "ticks": ""
            },
            "colorscale": [
             [
              0,
              "#0d0887"
             ],
             [
              0.1111111111111111,
              "#46039f"
             ],
             [
              0.2222222222222222,
              "#7201a8"
             ],
             [
              0.3333333333333333,
              "#9c179e"
             ],
             [
              0.4444444444444444,
              "#bd3786"
             ],
             [
              0.5555555555555556,
              "#d8576b"
             ],
             [
              0.6666666666666666,
              "#ed7953"
             ],
             [
              0.7777777777777778,
              "#fb9f3a"
             ],
             [
              0.8888888888888888,
              "#fdca26"
             ],
             [
              1,
              "#f0f921"
             ]
            ],
            "type": "heatmapgl"
           }
          ],
          "histogram": [
           {
            "marker": {
             "pattern": {
              "fillmode": "overlay",
              "size": 10,
              "solidity": 0.2
             }
            },
            "type": "histogram"
           }
          ],
          "histogram2d": [
           {
            "colorbar": {
             "outlinewidth": 0,
             "ticks": ""
            },
            "colorscale": [
             [
              0,
              "#0d0887"
             ],
             [
              0.1111111111111111,
              "#46039f"
             ],
             [
              0.2222222222222222,
              "#7201a8"
             ],
             [
              0.3333333333333333,
              "#9c179e"
             ],
             [
              0.4444444444444444,
              "#bd3786"
             ],
             [
              0.5555555555555556,
              "#d8576b"
             ],
             [
              0.6666666666666666,
              "#ed7953"
             ],
             [
              0.7777777777777778,
              "#fb9f3a"
             ],
             [
              0.8888888888888888,
              "#fdca26"
             ],
             [
              1,
              "#f0f921"
             ]
            ],
            "type": "histogram2d"
           }
          ],
          "histogram2dcontour": [
           {
            "colorbar": {
             "outlinewidth": 0,
             "ticks": ""
            },
            "colorscale": [
             [
              0,
              "#0d0887"
             ],
             [
              0.1111111111111111,
              "#46039f"
             ],
             [
              0.2222222222222222,
              "#7201a8"
             ],
             [
              0.3333333333333333,
              "#9c179e"
             ],
             [
              0.4444444444444444,
              "#bd3786"
             ],
             [
              0.5555555555555556,
              "#d8576b"
             ],
             [
              0.6666666666666666,
              "#ed7953"
             ],
             [
              0.7777777777777778,
              "#fb9f3a"
             ],
             [
              0.8888888888888888,
              "#fdca26"
             ],
             [
              1,
              "#f0f921"
             ]
            ],
            "type": "histogram2dcontour"
           }
          ],
          "mesh3d": [
           {
            "colorbar": {
             "outlinewidth": 0,
             "ticks": ""
            },
            "type": "mesh3d"
           }
          ],
          "parcoords": [
           {
            "line": {
             "colorbar": {
              "outlinewidth": 0,
              "ticks": ""
             }
            },
            "type": "parcoords"
           }
          ],
          "pie": [
           {
            "automargin": true,
            "type": "pie"
           }
          ],
          "scatter": [
           {
            "fillpattern": {
             "fillmode": "overlay",
             "size": 10,
             "solidity": 0.2
            },
            "type": "scatter"
           }
          ],
          "scatter3d": [
           {
            "line": {
             "colorbar": {
              "outlinewidth": 0,
              "ticks": ""
             }
            },
            "marker": {
             "colorbar": {
              "outlinewidth": 0,
              "ticks": ""
             }
            },
            "type": "scatter3d"
           }
          ],
          "scattercarpet": [
           {
            "marker": {
             "colorbar": {
              "outlinewidth": 0,
              "ticks": ""
             }
            },
            "type": "scattercarpet"
           }
          ],
          "scattergeo": [
           {
            "marker": {
             "colorbar": {
              "outlinewidth": 0,
              "ticks": ""
             }
            },
            "type": "scattergeo"
           }
          ],
          "scattergl": [
           {
            "marker": {
             "colorbar": {
              "outlinewidth": 0,
              "ticks": ""
             }
            },
            "type": "scattergl"
           }
          ],
          "scattermapbox": [
           {
            "marker": {
             "colorbar": {
              "outlinewidth": 0,
              "ticks": ""
             }
            },
            "type": "scattermapbox"
           }
          ],
          "scatterpolar": [
           {
            "marker": {
             "colorbar": {
              "outlinewidth": 0,
              "ticks": ""
             }
            },
            "type": "scatterpolar"
           }
          ],
          "scatterpolargl": [
           {
            "marker": {
             "colorbar": {
              "outlinewidth": 0,
              "ticks": ""
             }
            },
            "type": "scatterpolargl"
           }
          ],
          "scatterternary": [
           {
            "marker": {
             "colorbar": {
              "outlinewidth": 0,
              "ticks": ""
             }
            },
            "type": "scatterternary"
           }
          ],
          "surface": [
           {
            "colorbar": {
             "outlinewidth": 0,
             "ticks": ""
            },
            "colorscale": [
             [
              0,
              "#0d0887"
             ],
             [
              0.1111111111111111,
              "#46039f"
             ],
             [
              0.2222222222222222,
              "#7201a8"
             ],
             [
              0.3333333333333333,
              "#9c179e"
             ],
             [
              0.4444444444444444,
              "#bd3786"
             ],
             [
              0.5555555555555556,
              "#d8576b"
             ],
             [
              0.6666666666666666,
              "#ed7953"
             ],
             [
              0.7777777777777778,
              "#fb9f3a"
             ],
             [
              0.8888888888888888,
              "#fdca26"
             ],
             [
              1,
              "#f0f921"
             ]
            ],
            "type": "surface"
           }
          ],
          "table": [
           {
            "cells": {
             "fill": {
              "color": "#EBF0F8"
             },
             "line": {
              "color": "white"
             }
            },
            "header": {
             "fill": {
              "color": "#C8D4E3"
             },
             "line": {
              "color": "white"
             }
            },
            "type": "table"
           }
          ]
         },
         "layout": {
          "annotationdefaults": {
           "arrowcolor": "#2a3f5f",
           "arrowhead": 0,
           "arrowwidth": 1
          },
          "autotypenumbers": "strict",
          "coloraxis": {
           "colorbar": {
            "outlinewidth": 0,
            "ticks": ""
           }
          },
          "colorscale": {
           "diverging": [
            [
             0,
             "#8e0152"
            ],
            [
             0.1,
             "#c51b7d"
            ],
            [
             0.2,
             "#de77ae"
            ],
            [
             0.3,
             "#f1b6da"
            ],
            [
             0.4,
             "#fde0ef"
            ],
            [
             0.5,
             "#f7f7f7"
            ],
            [
             0.6,
             "#e6f5d0"
            ],
            [
             0.7,
             "#b8e186"
            ],
            [
             0.8,
             "#7fbc41"
            ],
            [
             0.9,
             "#4d9221"
            ],
            [
             1,
             "#276419"
            ]
           ],
           "sequential": [
            [
             0,
             "#0d0887"
            ],
            [
             0.1111111111111111,
             "#46039f"
            ],
            [
             0.2222222222222222,
             "#7201a8"
            ],
            [
             0.3333333333333333,
             "#9c179e"
            ],
            [
             0.4444444444444444,
             "#bd3786"
            ],
            [
             0.5555555555555556,
             "#d8576b"
            ],
            [
             0.6666666666666666,
             "#ed7953"
            ],
            [
             0.7777777777777778,
             "#fb9f3a"
            ],
            [
             0.8888888888888888,
             "#fdca26"
            ],
            [
             1,
             "#f0f921"
            ]
           ],
           "sequentialminus": [
            [
             0,
             "#0d0887"
            ],
            [
             0.1111111111111111,
             "#46039f"
            ],
            [
             0.2222222222222222,
             "#7201a8"
            ],
            [
             0.3333333333333333,
             "#9c179e"
            ],
            [
             0.4444444444444444,
             "#bd3786"
            ],
            [
             0.5555555555555556,
             "#d8576b"
            ],
            [
             0.6666666666666666,
             "#ed7953"
            ],
            [
             0.7777777777777778,
             "#fb9f3a"
            ],
            [
             0.8888888888888888,
             "#fdca26"
            ],
            [
             1,
             "#f0f921"
            ]
           ]
          },
          "colorway": [
           "#636efa",
           "#EF553B",
           "#00cc96",
           "#ab63fa",
           "#FFA15A",
           "#19d3f3",
           "#FF6692",
           "#B6E880",
           "#FF97FF",
           "#FECB52"
          ],
          "font": {
           "color": "#2a3f5f"
          },
          "geo": {
           "bgcolor": "white",
           "lakecolor": "white",
           "landcolor": "#E5ECF6",
           "showlakes": true,
           "showland": true,
           "subunitcolor": "white"
          },
          "hoverlabel": {
           "align": "left"
          },
          "hovermode": "closest",
          "mapbox": {
           "style": "light"
          },
          "paper_bgcolor": "white",
          "plot_bgcolor": "#E5ECF6",
          "polar": {
           "angularaxis": {
            "gridcolor": "white",
            "linecolor": "white",
            "ticks": ""
           },
           "bgcolor": "#E5ECF6",
           "radialaxis": {
            "gridcolor": "white",
            "linecolor": "white",
            "ticks": ""
           }
          },
          "scene": {
           "xaxis": {
            "backgroundcolor": "#E5ECF6",
            "gridcolor": "white",
            "gridwidth": 2,
            "linecolor": "white",
            "showbackground": true,
            "ticks": "",
            "zerolinecolor": "white"
           },
           "yaxis": {
            "backgroundcolor": "#E5ECF6",
            "gridcolor": "white",
            "gridwidth": 2,
            "linecolor": "white",
            "showbackground": true,
            "ticks": "",
            "zerolinecolor": "white"
           },
           "zaxis": {
            "backgroundcolor": "#E5ECF6",
            "gridcolor": "white",
            "gridwidth": 2,
            "linecolor": "white",
            "showbackground": true,
            "ticks": "",
            "zerolinecolor": "white"
           }
          },
          "shapedefaults": {
           "line": {
            "color": "#2a3f5f"
           }
          },
          "ternary": {
           "aaxis": {
            "gridcolor": "white",
            "linecolor": "white",
            "ticks": ""
           },
           "baxis": {
            "gridcolor": "white",
            "linecolor": "white",
            "ticks": ""
           },
           "bgcolor": "#E5ECF6",
           "caxis": {
            "gridcolor": "white",
            "linecolor": "white",
            "ticks": ""
           }
          },
          "title": {
           "x": 0.05
          },
          "xaxis": {
           "automargin": true,
           "gridcolor": "white",
           "linecolor": "white",
           "ticks": "",
           "title": {
            "standoff": 15
           },
           "zerolinecolor": "white",
           "zerolinewidth": 2
          },
          "yaxis": {
           "automargin": true,
           "gridcolor": "white",
           "linecolor": "white",
           "ticks": "",
           "title": {
            "standoff": 15
           },
           "zerolinecolor": "white",
           "zerolinewidth": 2
          }
         }
        }
       }
      }
     },
     "metadata": {},
     "output_type": "display_data"
    }
   ],
   "source": [
    "fig = go.Figure()\n",
    "nd = 4\n",
    "mz = 28\n",
    "fig.add_trace(go.Scatter(x = np.arange(processed.shape[0]-nd)+1, y = processed.loc[nd:, mz], mode = \"lines\", name=\"Trace #1\"))\n",
    "fig.add_trace(go.Scatter(x = np.arange(processed.shape[0]-nd)+1, y = processed.loc[nd:, mz], mode = \"lines\", name=\"Trace #2\"))\n",
    "\n",
    "fig.show()"
   ]
  },
  {
   "cell_type": "code",
   "execution_count": 59,
   "metadata": {
    "editable": true,
    "slideshow": {
     "slide_type": ""
    },
    "tags": []
   },
   "outputs": [],
   "source": [
    "fig = plot_interactive_graph(processed, mz)"
   ]
  },
  {
   "cell_type": "code",
   "execution_count": 60,
   "metadata": {},
   "outputs": [],
   "source": [
    "fig.write_image(output_filename_no_extension + \".png\", format=\"png\", height = 1500, width = 1000, engine = \"kaleido\")"
   ]
  },
  {
   "cell_type": "code",
   "execution_count": null,
   "metadata": {},
   "outputs": [],
   "source": []
  }
 ],
 "metadata": {
  "kernelspec": {
   "display_name": "Python 3 (ipykernel)",
   "language": "python",
   "name": "python3"
  },
  "language_info": {
   "codemirror_mode": {
    "name": "ipython",
    "version": 3
   },
   "file_extension": ".py",
   "mimetype": "text/x-python",
   "name": "python",
   "nbconvert_exporter": "python",
   "pygments_lexer": "ipython3",
   "version": "3.10.6"
  }
 },
 "nbformat": 4,
 "nbformat_minor": 4
}
